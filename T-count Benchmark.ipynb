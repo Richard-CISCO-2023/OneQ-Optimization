{
 "cells": [
  {
   "cell_type": "markdown",
   "metadata": {},
   "source": [
    "# Benchmark\n",
    "\n",
    "This notebook provides a straightforward way to compare the PyZX optimization routines against other approaches on a standard set of benchmark circuits."
   ]
  },
  {
   "cell_type": "markdown",
   "metadata": {},
   "source": [
    "First we execute the standard set of imports:"
   ]
  },
  {
   "cell_type": "code",
   "execution_count": 11,
   "metadata": {},
   "outputs": [],
   "source": [
    "import random, math, os, time\n",
    "import sys; sys.path.append('..')\n",
    "import pyzx as zx\n",
    "%config InlineBackend.figure_format = 'svg'"
   ]
  },
  {
   "cell_type": "markdown",
   "metadata": {},
   "source": [
    "The following class is some boilerplate around the simplification routines so that we can more easily print the relevant metrics"
   ]
  },
  {
   "cell_type": "code",
   "execution_count": 12,
   "metadata": {},
   "outputs": [],
   "source": [
    "class CircuitComparer:\n",
    "    def __init__(self, dirname, before, after):\n",
    "        self.fname_before = os.path.join(dirname, before)\n",
    "        if after:\n",
    "            self.fname_after = os.path.join(dirname, after)\n",
    "        else:\n",
    "            self.fname_after = \"\"\n",
    "        self.fname_tpar = \"\"\n",
    "        if before.find('before') != -1:\n",
    "            self.name = before[:-7]\n",
    "        else:\n",
    "            self.name = before\n",
    "        self.has_run = False\n",
    "    def __str__(self):\n",
    "        return \"CircuitComparer({}, {})\".format(self.name, str(self.has_run))\n",
    "    def __repr__(self):\n",
    "        return str(self)\n",
    "    \n",
    "    def run(self, validate=True):\n",
    "        if self.has_run: return True\n",
    "        c = zx.Circuit.load(self.fname_before).to_basic_gates()\n",
    "        if self.fname_after:\n",
    "            c_opt = zx.Circuit.load(self.fname_after).to_basic_gates()\n",
    "            self.t_opt = c_opt.tcount()\n",
    "        else:\n",
    "            self.t_opt = '-'\n",
    "        self.qubits = c.qubits\n",
    "        if self.fname_tpar:\n",
    "            c2 = zx.Circuit.load(self.fname_tpar)\n",
    "            self.tpar = c2.tcount()\n",
    "        else: self.tpar = \"-\"\n",
    "        self.gatecount = len(c.gates)\n",
    "        self.t_before = c.tcount()\n",
    "        g = c.to_graph()\n",
    "        t = time.time()\n",
    "        g = zx.simplify.teleport_reduce(g)\n",
    "        self.t_after = zx.tcount(g)\n",
    "        self.time_simpl = time.time() - t\n",
    "        t = time.time()\n",
    "        c_opt = zx.Circuit.from_graph(g).split_phase_gates().to_basic_gates()\n",
    "        #c_opt = zx.extract.streaming_extract(g).to_basic_gates()\n",
    "        c_opt = zx.optimize.basic_optimization(c_opt).to_basic_gates()\n",
    "        self.c_opt = c_opt\n",
    "        if validate:\n",
    "            c_id = c.adjoint()\n",
    "            c_id.add_circuit(c_opt)\n",
    "            g = c_id.to_graph()\n",
    "            zx.simplify.full_reduce(g)\n",
    "            if g.num_vertices() == 2*len(g.inputs):\n",
    "                self.verified = \"Y\"\n",
    "            else: self.verified = \"N\"\n",
    "        else: self.verified = \"-\"\n",
    "        \n",
    "        self.extracts = True\n",
    "        self.time_extr = 0.0\n",
    "#         try: \n",
    "#             c2 = zx.extract.streaming_extract(g,quiet=True)\n",
    "#             self.time_extr = time.time() - t\n",
    "#         except Exception:\n",
    "#             self.extracts = False\n",
    "#             self.time_extr = -1\n",
    "        self.has_run = True\n",
    "        \n",
    "        return True\n",
    "    \n",
    "    def get_output(self, validate=True):\n",
    "        if not self.has_run:\n",
    "            self.run(validate)\n",
    "        s = self.name.ljust(20) + str(self.qubits).rjust(7)\n",
    "        s += str(self.gatecount).rjust(8) + str(self.t_before).rjust(9) + str(self.t_opt).rjust(7) \n",
    "        s += str(self.tpar).rjust(8) + str(self.t_after).rjust(8)\n",
    "        s += \"{:.2f}\".format(self.time_simpl).rjust(11)\n",
    "        #s += \"{:.2f}\".format(self.time_extr).rjust(12)\n",
    "        s += \"       \" + self.verified\n",
    "        #s += str(self.hcount).rjust(8) + str(self.vcount).rjust(8)\n",
    "        return s\n",
    "    \n",
    "    def save(self):\n",
    "        if not self.has_run: self.run()\n",
    "        fname = self.name\n",
    "        if not fname.endswith('.qc'): fname = fname + \"_pyzx.qc\"\n",
    "        else: fname = fname[:-3] + \"_pyzx.qc\"\n",
    "        with open(\"../circuits/optimized/{}\".format(fname),'w') as f:\n",
    "            f.write(self.c_opt.split_phase_gates().to_qc())"
   ]
  },
  {
   "cell_type": "markdown",
   "metadata": {},
   "source": [
    "Next we define a function that loads in a directory of circuit files. Note that the directory we target has up to 3 versions of each circuit:\n",
    "\n",
    "* circuit_before   - This is the original circuit with any modifications, taken from the [Github page](https://github.com/njross/optimizer) of [[1]](#NRSCM)\n",
    "* circuit_after    - This is the circuit produced by the optimization routines of [[1]](#NRSCM).\n",
    "* circuit_tpar.qc  - This is the circuit produced by the Tpar algorithm [[2]](#Tpar).\n",
    "  \n",
    "<a id=\"NRSCM\"></a>\n",
    "[1] [Nam, Ross, Su, Childs, Maslov - Automated optimization of large quantum circuits with continuous parameters](https://www.nature.com/articles/s41534-018-0072-4)\n",
    "\n",
    "<a id=\"Tpar\"></a>\n",
    "[2] [Amy, Maslov, Mosca - Polynomial-time T-depth Optimization of Clifford+T circuits via Matroid Partitioning](https://arxiv.org/abs/1303.2042)"
   ]
  },
  {
   "cell_type": "code",
   "execution_count": 13,
   "metadata": {},
   "outputs": [],
   "source": [
    "def load_circuits(directory):\n",
    "    d = directory\n",
    "    beforefiles = []\n",
    "    afterfiles = []\n",
    "    tparfiles = []\n",
    "    for f in os.listdir(d):\n",
    "        if not os.path.isfile(os.path.join(d,f)): continue\n",
    "        if f.find('before') != -1:\n",
    "            beforefiles.append((f,d))\n",
    "        elif f.find('tpar') != -1:\n",
    "            tparfiles.append((f,d))\n",
    "        elif f.find('.qc') != -1 or f.find('.tfc') != -1:\n",
    "            beforefiles.append((f,d))\n",
    "        else: afterfiles.append((f,d))\n",
    "    \n",
    "    circuits = []\n",
    "    for f, d in beforefiles:\n",
    "        if f.find('before') == -1:\n",
    "            n = os.path.splitext(f)[0]\n",
    "        else: n = f[:-7]\n",
    "        for f2,d2 in afterfiles:\n",
    "            if d!=d2: continue\n",
    "            if f2.startswith(n):\n",
    "                c = CircuitComparer(d, f, f2)\n",
    "                circuits.append(c)\n",
    "                break\n",
    "        else:\n",
    "            c = CircuitComparer(d, f, '')\n",
    "            circuits.append(c)\n",
    "        for f2,d2 in tparfiles:\n",
    "            if d!=d2: continue\n",
    "            if f2.startswith(n):\n",
    "                circuits[-1].fname_tpar = os.path.join(d2,f2)\n",
    "    \n",
    "    return circuits\n",
    "\n",
    "dir_fast_circuits = os.path.join('..', 'circuits', 'Fast')\n",
    "fast_circuits = load_circuits('/Users/rc/Documents/GitHub/OneQ-Optimization2/Fast')"
   ]
  },
  {
   "cell_type": "markdown",
   "metadata": {},
   "source": [
    "The directory we target contains a subset of all benchmark circuits, chosen for given quick results. The following cell giving benchmark results of these circuits should therefore only take a few seconds to run. For the benchmarks of slower circuits see [below](#slowbench).\n",
    "The columns have the following meaning:\n",
    "\n",
    "* `Circuit     ` - The name of the circuit\n",
    "* `qubits      ` - Amount of qubits in the circuit\n",
    "* `G-count     ` - Gate count of original circuit\n",
    "* `T-before    ` - Amount of T-gates in original circuit\n",
    "* `T-NRSCM     ` - Amount of T-gates in optimised circuit of [[1]](#NRSCM)\n",
    "* `T-par       ` - Amount of T-gates in optimised circuit of [[2]](#Tpar)\n",
    "* `T-PyZX      ` - Amount of T-gates in optimised circuit made by PyZX\n",
    "* `Time-Simp   ` - The time taken for running the simplification routine on the circuit\n",
    "* `Time-Extract` - The time taken for extracting the circuit after the simplification\n",
    "\n",
    "Note that not all circuits were present in the papers [[1]](#NRSCM) and [[2]](#Tpar) in which case the relevant columns are empty."
   ]
  },
  {
   "cell_type": "code",
   "execution_count": 14,
   "metadata": {
    "scrolled": false
   },
   "outputs": [
    {
     "name": "stdout",
     "output_type": "stream",
     "text": [
      "Circuit              qubits G-count T-before T-NRSCM  T-par  T-PyZX  Time-Simp Verified\n"
     ]
    }
   ],
   "source": [
    "print(\"Circuit\".ljust(20), \"qubits\", \"G-count\", \"T-before\", \"T-NRSCM\", \" T-par\", \" T-PyZX\", \" Time-Simp\",\"Verified\")\n",
    "for c in fast_circuits:\n",
    "    print(c.get_output())"
   ]
  },
  {
   "cell_type": "code",
   "execution_count": 15,
   "metadata": {},
   "outputs": [],
   "source": [
    "for c in fast_circuits:\n",
    "    try: c.save()\n",
    "    except TypeError: continue"
   ]
  },
  {
   "cell_type": "markdown",
   "metadata": {},
   "source": [
    "<a id=\"slowbench\"></a>\n",
    "And now we do the benchmark on the slower circuits. Note that this can take up to half an hour to complete."
   ]
  },
  {
   "cell_type": "code",
   "execution_count": 16,
   "metadata": {},
   "outputs": [
    {
     "ename": "FileNotFoundError",
     "evalue": "[Errno 2] No such file or directory: '../circuits/Slow'",
     "output_type": "error",
     "traceback": [
      "\u001b[0;31m---------------------------------------------------------------------------\u001b[0m",
      "\u001b[0;31mFileNotFoundError\u001b[0m                         Traceback (most recent call last)",
      "Cell \u001b[0;32mIn[16], line 2\u001b[0m\n\u001b[1;32m      1\u001b[0m dir_slow_circuits \u001b[39m=\u001b[39m os\u001b[39m.\u001b[39mpath\u001b[39m.\u001b[39mjoin(\u001b[39m'\u001b[39m\u001b[39m..\u001b[39m\u001b[39m'\u001b[39m, \u001b[39m'\u001b[39m\u001b[39mcircuits\u001b[39m\u001b[39m'\u001b[39m, \u001b[39m'\u001b[39m\u001b[39mSlow\u001b[39m\u001b[39m'\u001b[39m)\n\u001b[0;32m----> 2\u001b[0m slow_circuits \u001b[39m=\u001b[39m load_circuits(dir_slow_circuits)\n\u001b[1;32m      3\u001b[0m \u001b[39mprint\u001b[39m(\u001b[39m\"\u001b[39m\u001b[39mCircuit\u001b[39m\u001b[39m\"\u001b[39m\u001b[39m.\u001b[39mljust(\u001b[39m20\u001b[39m), \u001b[39m\"\u001b[39m\u001b[39mqubits\u001b[39m\u001b[39m\"\u001b[39m, \u001b[39m\"\u001b[39m\u001b[39mG-count\u001b[39m\u001b[39m\"\u001b[39m, \u001b[39m\"\u001b[39m\u001b[39mT-before\u001b[39m\u001b[39m\"\u001b[39m, \u001b[39m\"\u001b[39m\u001b[39mT-NRSCM\u001b[39m\u001b[39m\"\u001b[39m, \u001b[39m\"\u001b[39m\u001b[39m T-par\u001b[39m\u001b[39m\"\u001b[39m, \u001b[39m\"\u001b[39m\u001b[39m T-PyZX\u001b[39m\u001b[39m\"\u001b[39m, \u001b[39m\"\u001b[39m\u001b[39m Time-Simp\u001b[39m\u001b[39m\"\u001b[39m, \u001b[39m\"\u001b[39m\u001b[39mVerified\u001b[39m\u001b[39m\"\u001b[39m)\n\u001b[1;32m      4\u001b[0m \u001b[39mfor\u001b[39;00m c \u001b[39min\u001b[39;00m slow_circuits:\n",
      "Cell \u001b[0;32mIn[13], line 6\u001b[0m, in \u001b[0;36mload_circuits\u001b[0;34m(directory)\u001b[0m\n\u001b[1;32m      4\u001b[0m afterfiles \u001b[39m=\u001b[39m []\n\u001b[1;32m      5\u001b[0m tparfiles \u001b[39m=\u001b[39m []\n\u001b[0;32m----> 6\u001b[0m \u001b[39mfor\u001b[39;00m f \u001b[39min\u001b[39;00m os\u001b[39m.\u001b[39;49mlistdir(d):\n\u001b[1;32m      7\u001b[0m     \u001b[39mif\u001b[39;00m \u001b[39mnot\u001b[39;00m os\u001b[39m.\u001b[39mpath\u001b[39m.\u001b[39misfile(os\u001b[39m.\u001b[39mpath\u001b[39m.\u001b[39mjoin(d,f)): \u001b[39mcontinue\u001b[39;00m\n\u001b[1;32m      8\u001b[0m     \u001b[39mif\u001b[39;00m f\u001b[39m.\u001b[39mfind(\u001b[39m'\u001b[39m\u001b[39mbefore\u001b[39m\u001b[39m'\u001b[39m) \u001b[39m!=\u001b[39m \u001b[39m-\u001b[39m\u001b[39m1\u001b[39m:\n",
      "\u001b[0;31mFileNotFoundError\u001b[0m: [Errno 2] No such file or directory: '../circuits/Slow'"
     ]
    }
   ],
   "source": [
    "dir_slow_circuits = os.path.join('..', 'circuits', 'Slow')\n",
    "slow_circuits = load_circuits(dir_slow_circuits)\n",
    "print(\"Circuit\".ljust(20), \"qubits\", \"G-count\", \"T-before\", \"T-NRSCM\", \" T-par\", \" T-PyZX\", \" Time-Simp\", \"Verified\")\n",
    "for c in slow_circuits:\n",
    "    print(c.get_output(validate=False))"
   ]
  },
  {
   "cell_type": "code",
   "execution_count": null,
   "metadata": {},
   "outputs": [],
   "source": [
    "for c in slow_circuits:\n",
    "    try: c.save()\n",
    "    except TypeError: continue"
   ]
  }
 ],
 "metadata": {
  "kernelspec": {
   "display_name": "Python 3",
   "language": "python",
   "name": "python3"
  },
  "language_info": {
   "codemirror_mode": {
    "name": "ipython",
    "version": 3
   },
   "file_extension": ".py",
   "mimetype": "text/x-python",
   "name": "python",
   "nbconvert_exporter": "python",
   "pygments_lexer": "ipython3",
   "version": "3.11.4"
  }
 },
 "nbformat": 4,
 "nbformat_minor": 2
}
