{
 "cells": [
  {
   "cell_type": "code",
   "execution_count": 2,
   "metadata": {},
   "outputs": [],
   "source": [
    "from Partition import *\n",
    "\n",
    "NQubit = 4\n",
    "Depth = 20\n",
    "\n",
    "def main():\n",
    "    gs, input_nodes, node_pos, colors = generate_graph_state(NQubit, Depth)\n",
    "    # graph = partition(gs, input_nodes)\n",
    "    # labels = nx.get_node_attributes(graph, 'layer')\n",
    "    # nx.draw(graph, node_size = 20, labels = labels, arrows = False, pos = node_pos, node_color = colors)\n",
    "    return\n",
    "\n",
    "if __name__ == '__main__':\n",
    "    main()"
   ]
  }
 ],
 "metadata": {
  "kernelspec": {
   "display_name": "test",
   "language": "python",
   "name": "python3"
  },
  "language_info": {
   "codemirror_mode": {
    "name": "ipython",
    "version": 3
   },
   "file_extension": ".py",
   "mimetype": "text/x-python",
   "name": "python",
   "nbconvert_exporter": "python",
   "pygments_lexer": "ipython3",
   "version": "3.7.13"
  },
  "orig_nbformat": 4
 },
 "nbformat": 4,
 "nbformat_minor": 2
}
